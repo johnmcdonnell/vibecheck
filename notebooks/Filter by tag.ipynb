{
 "cells": [
  {
   "cell_type": "code",
   "execution_count": 8,
   "id": "ac8a4c8b",
   "metadata": {},
   "outputs": [],
   "source": [
    "import ipywidgets as widgets\n",
    "from ipywidgets import Layout, Box\n",
    "from sqlalchemy import create_engine\n",
    "import pandas as pd\n",
    "import os\n",
    "import json\n",
    "\n",
    "from mastodon import Mastodon\n",
    "\n"
   ]
  },
  {
   "cell_type": "code",
   "execution_count": 9,
   "id": "6f706b87",
   "metadata": {},
   "outputs": [],
   "source": [
    "# Search Mastodon\n",
    "\n",
    "access_token = os.getenv(\"MASTODON_ACCESS_TOKEN\")\n",
    "api_base_url = os.getenv(\"MASTODON_API_BASE_URL\")\n",
    "\n",
    "mastodon = Mastodon(access_token=access_token, api_base_url=api_base_url)\n",
    "\n",
    "search_results = mastodon.search('@tchambers@indieweb.social', result_type='accounts')"
   ]
  },
  {
   "cell_type": "code",
   "execution_count": 10,
   "id": "3e544052",
   "metadata": {},
   "outputs": [
    {
     "data": {
      "text/plain": [
       "{'accounts': [{'id': 895746,\n",
       "   'username': 'tchambers',\n",
       "   'acct': 'tchambers@indieweb.social',\n",
       "   'display_name': 'Tim Chambers',\n",
       "   'locked': False,\n",
       "   'bot': False,\n",
       "   'discoverable': True,\n",
       "   'indexable': True,\n",
       "   'group': False,\n",
       "   'created_at': datetime.datetime(2019, 8, 30, 0, 0, tzinfo=tzutc()),\n",
       "   'note': '<p>Technologist, writer, admin of indieweb.social. Fascinated by how new politics impacts technology and vice versa.  <a href=\"https://indieweb.social/tags/fedi22\" class=\"mention hashtag\" rel=\"nofollow noopener noreferrer\" target=\"_blank\">#<span>fedi22</span></a> <a href=\"https://indieweb.social/tags/indieweb\" class=\"mention hashtag\" rel=\"nofollow noopener noreferrer\" target=\"_blank\">#<span>indieweb</span></a> <a href=\"https://indieweb.social/tags/fediverse\" class=\"mention hashtag\" rel=\"nofollow noopener noreferrer\" target=\"_blank\">#<span>fediverse</span></a></p>',\n",
       "   'url': 'https://indieweb.social/@tchambers',\n",
       "   'uri': 'https://indieweb.social/users/tchambers',\n",
       "   'avatar': 'https://files.mastodon.social/cache/accounts/avatars/000/895/746/original/440f5433b8ff41bb.png',\n",
       "   'avatar_static': 'https://files.mastodon.social/cache/accounts/avatars/000/895/746/original/440f5433b8ff41bb.png',\n",
       "   'header': 'https://files.mastodon.social/cache/accounts/headers/000/895/746/original/37e8a599e881598f.png',\n",
       "   'header_static': 'https://files.mastodon.social/cache/accounts/headers/000/895/746/original/37e8a599e881598f.png',\n",
       "   'followers_count': 15988,\n",
       "   'following_count': 3860,\n",
       "   'statuses_count': 40440,\n",
       "   'last_status_at': datetime.datetime(2024, 1, 18, 0, 0),\n",
       "   'hide_collections': False,\n",
       "   'emojis': [],\n",
       "   'fields': [{'name': 'Indieweb Site',\n",
       "     'value': '<a href=\"http://www.timothychambers.net\" rel=\"nofollow noopener noreferrer\" translate=\"no\" target=\"_blank\"><span class=\"invisible\">http://www.</span><span class=\"\">timothychambers.net</span><span class=\"invisible\"></span></a>',\n",
       "     'verified_at': None},\n",
       "    {'name': 'Gravatar',\n",
       "     'value': '<a href=\"https://en.gravatar.com/tchambers\" rel=\"nofollow noopener noreferrer\" translate=\"no\" target=\"_blank\"><span class=\"invisible\">https://</span><span class=\"\">en.gravatar.com/tchambers</span><span class=\"invisible\"></span></a>',\n",
       "     'verified_at': None},\n",
       "    {'name': 'Threads',\n",
       "     'value': '<a href=\"https://www.threads.net/@timothyjchambers\" rel=\"nofollow noopener noreferrer\" translate=\"no\" target=\"_blank\"><span class=\"invisible\">https://www.</span><span class=\"\">threads.net/@timothyjchambers</span><span class=\"invisible\"></span></a>',\n",
       "     'verified_at': None},\n",
       "    {'name': 'GitHub',\n",
       "     'value': '<a href=\"https://github.com/Timothyjchambers\" rel=\"nofollow noopener noreferrer\" translate=\"no\" target=\"_blank\"><span class=\"invisible\">https://</span><span class=\"\">github.com/Timothyjchambers</span><span class=\"invisible\"></span></a>',\n",
       "     'verified_at': None}]}],\n",
       " 'statuses': [],\n",
       " 'hashtags': []}"
      ]
     },
     "execution_count": 10,
     "metadata": {},
     "output_type": "execute_result"
    }
   ],
   "source": [
    "search_results"
   ]
  },
  {
   "cell_type": "code",
   "execution_count": 53,
   "id": "5473e7e4",
   "metadata": {},
   "outputs": [
    {
     "name": "stdout",
     "output_type": "stream",
     "text": [
      "   id                      author   \n",
      "0   1  topintech@flipboard.social  \\\n",
      "1   2                      asymco   \n",
      "2   3          cubicgarden@mas.to   \n",
      "3   4            Ten@hachyderm.io   \n",
      "4   5         danilo@hachyderm.io   \n",
      "\n",
      "                                             content   \n",
      "0  <p>A new kind of climate denial has taken over...  \\\n",
      "1  <p>Apple was the number one volume seller in t...   \n",
      "2  <p>Just spotted another <a href=\"https://mas.t...   \n",
      "3                                                      \n",
      "4  <p>In terms of ~disruption~, I’m struggling to...   \n",
      "\n",
      "                   created_at   url   \n",
      "0  2024-01-16 21:06:41.000000  None  \\\n",
      "1  2024-01-16 21:20:37.000000  None   \n",
      "2  2024-01-16 21:36:49.000000  None   \n",
      "3  2024-01-16 21:39:19.000000  None   \n",
      "4  2024-01-16 21:39:58.000000  None   \n",
      "\n",
      "                                            raw_blob tagger_version   \n",
      "0  {\"id\": 111767663802200651, \"created_at\": \"2024...            0.1  \\\n",
      "1  {\"id\": 111767718325885219, \"created_at\": \"2024...            0.1   \n",
      "2  {\"id\": 111767782280520696, \"created_at\": \"2024...            0.1   \n",
      "3  {\"id\": 111767792246853133, \"created_at\": \"2024...            0.1   \n",
      "4  {\"id\": 111767794674535277, \"created_at\": \"2024...            0.1   \n",
      "\n",
      "              toot_id                                          tags_json  \n",
      "0  111767663802200651  {\"topic\":\"climate change\",\"is_polemical\":false...  \n",
      "1  111767718325885219  {\"topic\":\"market analysis\",\"is_polemical\":fals...  \n",
      "2  111767782280520696  {\"topic\":\"Tim Chambers posted: Just spotted an...  \n",
      "3  111767792246853133  {\"topic\":\"Tim Chambers posted\",\"is_polemical\":...  \n",
      "4  111767794674535277  {\"topic\":\"text classification\",\"is_polemical\":...  \n"
     ]
    }
   ],
   "source": [
    "\n",
    "# Create SQLite database engine\n",
    "engine = create_engine(\"sqlite:///../toots.db\")\n",
    "\n",
    "# Execute SQL query to fetch the toots data\n",
    "query = \"\"\"SELECT *\n",
    "FROM toots\n",
    "JOIN algo_tags\n",
    "  ON toots.id = algo_tags.toot_id\n",
    "\"\"\"\n",
    "df = pd.read_sql(query, engine)\n",
    "\n",
    "# Display the dataframe\n",
    "print(df.head())\n"
   ]
  },
  {
   "cell_type": "code",
   "execution_count": 54,
   "id": "7f3802bd",
   "metadata": {},
   "outputs": [
    {
     "name": "stdout",
     "output_type": "stream",
     "text": [
      "    id                       author   \n",
      "79  80           Cateo@mstdn.social  \\\n",
      "77  78   Purzelinenlotte@troet.cafe   \n",
      "72  73            hollywoodreporter   \n",
      "75  76  matoken@inari.opencocon.org   \n",
      "76  77      danzillawhite@minds.com   \n",
      "..  ..                          ...   \n",
      "4    5          danilo@hachyderm.io   \n",
      "3    4             Ten@hachyderm.io   \n",
      "2    3           cubicgarden@mas.to   \n",
      "1    2                       asymco   \n",
      "0    1   topintech@flipboard.social   \n",
      "\n",
      "                                              content   \n",
      "79  <p>Connections <br>Puzzle #221<br>🟨🟨🟨🟨<br>🟪🟪🟪🟪...  \\\n",
      "77  <p>Umzugsunternehmen ☑️<br>Umzugsdatum ☑️<br>U...   \n",
      "72  <p>NewsNation Taps Chris Stirewalt for New Sun...   \n",
      "75  <p>しばらく前に4インチちょいのESP32 な4,5k(jpy)位のE-Ink reade...   \n",
      "76  This is one big figure. <a href=\"https://www.m...   \n",
      "..                                                ...   \n",
      "4   <p>In terms of ~disruption~, I’m struggling to...   \n",
      "3                                                       \n",
      "2   <p>Just spotted another <a href=\"https://mas.t...   \n",
      "1   <p>Apple was the number one volume seller in t...   \n",
      "0   <p>A new kind of climate denial has taken over...   \n",
      "\n",
      "                    created_at   \n",
      "79  2024-01-18 18:06:23.000000  \\\n",
      "77  2024-01-18 18:06:23.000000   \n",
      "72  2024-01-18 18:06:20.002000   \n",
      "75  2024-01-18 18:06:20.000000   \n",
      "76  2024-01-18 18:06:19.000000   \n",
      "..                         ...   \n",
      "4   2024-01-16 21:39:58.000000   \n",
      "3   2024-01-16 21:39:19.000000   \n",
      "2   2024-01-16 21:36:49.000000   \n",
      "1   2024-01-16 21:20:37.000000   \n",
      "0   2024-01-16 21:06:41.000000   \n",
      "\n",
      "                                                  url   \n",
      "79     https://mstdn.social/@Cateo/111778279136027765  \\\n",
      "77  https://troet.cafe/@Purzelinenlotte/1117782791...   \n",
      "72  https://mastodon.social/@hollywoodreporter/111...   \n",
      "75  https://inari.opencocon.org/@matoken/111778278...   \n",
      "76  https://www.minds.com/newsfeed/159477999204512...   \n",
      "..                                                ...   \n",
      "4                                                None   \n",
      "3                                                None   \n",
      "2                                                None   \n",
      "1                                                None   \n",
      "0                                                None   \n",
      "\n",
      "                                             raw_blob tagger_version   \n",
      "79  {\"id\": 111778279166098330, \"created_at\": \"2024...            0.1  \\\n",
      "77  {\"id\": 111778279154420253, \"created_at\": \"2024...            0.1   \n",
      "72  {\"id\": 111778278932458897, \"created_at\": \"2024...            0.1   \n",
      "75  {\"id\": 111778279070281568, \"created_at\": \"2024...            0.1   \n",
      "76  {\"id\": 111778279113443133, \"created_at\": \"2024...            0.1   \n",
      "..                                                ...            ...   \n",
      "4   {\"id\": 111767794674535277, \"created_at\": \"2024...            0.1   \n",
      "3   {\"id\": 111767792246853133, \"created_at\": \"2024...            0.1   \n",
      "2   {\"id\": 111767782280520696, \"created_at\": \"2024...            0.1   \n",
      "1   {\"id\": 111767718325885219, \"created_at\": \"2024...            0.1   \n",
      "0   {\"id\": 111767663802200651, \"created_at\": \"2024...            0.1   \n",
      "\n",
      "               toot_id                                          tags_json   \n",
      "79  111778279166098330  {\"topic\":\"Connections Puzzle\",\"is_polemical\":f...  \\\n",
      "77  111778279154420253  {\"topic\":\"Lotte posted:  Umzugsunternehmen ☑️ ...   \n",
      "72  111778278932458897  {\"topic\":\"The Hollywood Reporter posted: NewsN...   \n",
      "75  111778279070281568  {\"topic\":\"matoken\",\"is_polemical\":false,\"is_po...   \n",
      "76  111778279113443133  {\"topic\":\"Danzilla_White posted: This is one b...   \n",
      "..                 ...                                                ...   \n",
      "4   111767794674535277  {\"topic\":\"text classification\",\"is_polemical\":...   \n",
      "3   111767792246853133  {\"topic\":\"Tim Chambers posted\",\"is_polemical\":...   \n",
      "2   111767782280520696  {\"topic\":\"Tim Chambers posted: Just spotted an...   \n",
      "1   111767718325885219  {\"topic\":\"market analysis\",\"is_polemical\":fals...   \n",
      "0   111767663802200651  {\"topic\":\"climate change\",\"is_polemical\":false...   \n",
      "\n",
      "                                                 tags  ... is_joke  is_art   \n",
      "79  {'topic': 'Connections Puzzle', 'is_polemical'...  ...   False   False  \\\n",
      "77  {'topic': 'Lotte posted:  Umzugsunternehmen ☑️...  ...   False   False   \n",
      "72  {'topic': 'The Hollywood Reporter posted: News...  ...   False   False   \n",
      "75  {'topic': 'matoken', 'is_polemical': False, 'i...  ...   False   False   \n",
      "76  {'topic': 'Danzilla_White posted: This is one ...  ...   False   False   \n",
      "..                                                ...  ...     ...     ...   \n",
      "4   {'topic': 'text classification', 'is_polemical...  ...   False   False   \n",
      "3   {'topic': 'Tim Chambers posted', 'is_polemical...  ...   False   False   \n",
      "2   {'topic': 'Tim Chambers posted: Just spotted a...  ...   False   False   \n",
      "1   {'topic': 'market analysis', 'is_polemical': F...  ...   False   False   \n",
      "0   {'topic': 'climate change', 'is_polemical': Fa...  ...   False   False   \n",
      "\n",
      "    is_trolling  is_opinion  is_informative  is_chill   \n",
      "79        False       False            True      True  \\\n",
      "77        False       False            True      True   \n",
      "72        False       False            True      True   \n",
      "75        False       False            True     False   \n",
      "76        False       False            True      True   \n",
      "..          ...         ...             ...       ...   \n",
      "4         False        True            True     False   \n",
      "3         False       False           False      True   \n",
      "2         False       False            True     False   \n",
      "1         False       False            True     False   \n",
      "0         False       False           False     False   \n",
      "\n",
      "   is_about_israel_palestine  is_about_elon_musk  is_about_donald_trump   \n",
      "79                     False               False                  False  \\\n",
      "77                     False               False                  False   \n",
      "72                     False               False                  False   \n",
      "75                     False               False                  False   \n",
      "76                     False               False                  False   \n",
      "..                       ...                 ...                    ...   \n",
      "4                      False               False                  False   \n",
      "3                      False               False                  False   \n",
      "2                      False               False                  False   \n",
      "1                      False               False                  False   \n",
      "0                      False               False                  False   \n",
      "\n",
      "    is_about_politics  \n",
      "79              False  \n",
      "77              False  \n",
      "72               True  \n",
      "75              False  \n",
      "76              False  \n",
      "..                ...  \n",
      "4                 NaN  \n",
      "3                 NaN  \n",
      "2                 NaN  \n",
      "1                 NaN  \n",
      "0                 NaN  \n",
      "\n",
      "[80 rows x 29 columns]\n"
     ]
    }
   ],
   "source": [
    "# Assuming the dataframe is already defined as 'df'\n",
    "# Expand the JSON in the 'tags' column\n",
    "df['tags'] = df['tags_json'].apply(json.loads)\n",
    "df_expanded = pd.json_normalize(df['tags'])\n",
    "\n",
    "# Concatenate the expanded columns with the original dataframe\n",
    "df = pd.concat([df, df_expanded], axis=1)\n",
    "df = df.sort_values(by='created_at', ascending=False)\n",
    "\n",
    "# Display the updated dataframe\n",
    "print(df)\n"
   ]
  },
  {
   "cell_type": "code",
   "execution_count": 43,
   "id": "ae177a80",
   "metadata": {},
   "outputs": [],
   "source": [
    "def display_timeline(df):\n",
    "    # Assuming the dataframe is already defined as 'df'\n",
    "    for author, content, tags, created_at in zip(df['author'], df['content'], df['tags'], df['created_at']):\n",
    "        toot_content = widgets.HTML(value=f'<strong>{author}</strong>: {content} <p> <em>{created_at}</em> </p>',\n",
    "            layout=Layout(border='solid', padding='10px', margin='10px', max_width='50em'))\n",
    "        tag_widgets = []\n",
    "        for tag, is_true in tags.items():\n",
    "            if is_true == True:\n",
    "                tag_button = widgets.Button(description=tag, button_style='info')\n",
    "                tag_widgets.append(tag_button)\n",
    "        tags_box = Box(children=tag_widgets, layout=Layout(display='flex', flex_flow='row wrap'))\n",
    "        toot_box = Box(children=[toot_content, tags_box], layout=Layout(display='flex', flex_flow='column wrap'))\n",
    "        display(toot_box)\n"
   ]
  },
  {
   "cell_type": "code",
   "execution_count": 51,
   "id": "2049e8b4",
   "metadata": {},
   "outputs": [
    {
     "data": {
      "application/vnd.jupyter.widget-view+json": {
       "model_id": "85693539ef934c43ae865d44a21b30a2",
       "version_major": 2,
       "version_minor": 0
      },
      "text/plain": [
       "Box(children=(HTML(value='<strong>Cateo@mstdn.social</strong>: <p>Connections <br>Puzzle #221<br>🟨🟨🟨🟨<br>🟪🟪🟪🟪<…"
      ]
     },
     "metadata": {},
     "output_type": "display_data"
    },
    {
     "data": {
      "application/vnd.jupyter.widget-view+json": {
       "model_id": "6667e422ec0049deb89609d0993d4009",
       "version_major": 2,
       "version_minor": 0
      },
      "text/plain": [
       "Box(children=(HTML(value='<strong>Purzelinenlotte@troet.cafe</strong>: <p>Umzugsunternehmen ☑️<br>Umzugsdatum …"
      ]
     },
     "metadata": {},
     "output_type": "display_data"
    },
    {
     "data": {
      "application/vnd.jupyter.widget-view+json": {
       "model_id": "4b65a904bf044c81b8c86d05d4dd38eb",
       "version_major": 2,
       "version_minor": 0
      },
      "text/plain": [
       "Box(children=(HTML(value='<strong>hollywoodreporter</strong>: <p>NewsNation Taps Chris Stirewalt for New Sunda…"
      ]
     },
     "metadata": {},
     "output_type": "display_data"
    },
    {
     "data": {
      "application/vnd.jupyter.widget-view+json": {
       "model_id": "518835ab6bc04c1fbcc8269640eaa0bd",
       "version_major": 2,
       "version_minor": 0
      },
      "text/plain": [
       "Box(children=(HTML(value='<strong>matoken@inari.opencocon.org</strong>: <p>しばらく前に4インチちょいのESP32 な4,5k(jpy)位のE-I…"
      ]
     },
     "metadata": {},
     "output_type": "display_data"
    },
    {
     "data": {
      "application/vnd.jupyter.widget-view+json": {
       "model_id": "642d9d10c77644598405914c184a3936",
       "version_major": 2,
       "version_minor": 0
      },
      "text/plain": [
       "Box(children=(HTML(value='<strong>danzillawhite@minds.com</strong>: This is one big figure. <a href=\"https://w…"
      ]
     },
     "metadata": {},
     "output_type": "display_data"
    },
    {
     "data": {
      "application/vnd.jupyter.widget-view+json": {
       "model_id": "dbdec332bafb4d049ddbaeac3fb5d2f1",
       "version_major": 2,
       "version_minor": 0
      },
      "text/plain": [
       "Box(children=(HTML(value='<strong>eq@ingen.work</strong>: <p><i><span>\\u3000</span>ℹ️<span> </span><i><i><span…"
      ]
     },
     "metadata": {},
     "output_type": "display_data"
    },
    {
     "data": {
      "application/vnd.jupyter.widget-view+json": {
       "model_id": "1770f5c2f43742d08f92431bba99b0fb",
       "version_major": 2,
       "version_minor": 0
      },
      "text/plain": [
       "Box(children=(HTML(value='<strong>Benjaminblackoak@sfba.social</strong>: <p>My local library was my refuge dur…"
      ]
     },
     "metadata": {},
     "output_type": "display_data"
    },
    {
     "data": {
      "application/vnd.jupyter.widget-view+json": {
       "model_id": "65ceb7a9590942e2b3415eb46f571623",
       "version_major": 2,
       "version_minor": 0
      },
      "text/plain": [
       "Box(children=(HTML(value='<strong>Djeep@noauthority.social</strong>: <p>💪 </p><p><a href=\"https://youtube.com/…"
      ]
     },
     "metadata": {},
     "output_type": "display_data"
    },
    {
     "data": {
      "application/vnd.jupyter.widget-view+json": {
       "model_id": "6d2d75ee2c39490d8ccf4df242ae8434",
       "version_major": 2,
       "version_minor": 0
      },
      "text/plain": [
       "Box(children=(HTML(value='<strong>hagen</strong>: <p>hank green just praised a piece of journalism so bad that…"
      ]
     },
     "metadata": {},
     "output_type": "display_data"
    },
    {
     "data": {
      "application/vnd.jupyter.widget-view+json": {
       "model_id": "66631c82b91c419e962ee7ed9f7a5a68",
       "version_major": 2,
       "version_minor": 0
      },
      "text/plain": [
       "Box(children=(HTML(value='<strong>RobinApple</strong>: <p>Bird populations dropped 30% in last 50 years, but w…"
      ]
     },
     "metadata": {},
     "output_type": "display_data"
    }
   ],
   "source": [
    "display_timeline(df.head(10))"
   ]
  },
  {
   "cell_type": "code",
   "execution_count": 55,
   "id": "3976bc41",
   "metadata": {},
   "outputs": [
    {
     "data": {
      "application/vnd.jupyter.widget-view+json": {
       "model_id": "e1f091fa1ddd4294b4083a130d20cd71",
       "version_major": 2,
       "version_minor": 0
      },
      "text/plain": [
       "Box(children=(HTML(value='<strong>Cateo@mstdn.social</strong>: <p>Connections <br>Puzzle #221<br>🟨🟨🟨🟨<br>🟪🟪🟪🟪<…"
      ]
     },
     "metadata": {},
     "output_type": "display_data"
    },
    {
     "data": {
      "application/vnd.jupyter.widget-view+json": {
       "model_id": "17e45d167a44452e88e7aa57df2b6c6c",
       "version_major": 2,
       "version_minor": 0
      },
      "text/plain": [
       "Box(children=(HTML(value='<strong>Purzelinenlotte@troet.cafe</strong>: <p>Umzugsunternehmen ☑️<br>Umzugsdatum …"
      ]
     },
     "metadata": {},
     "output_type": "display_data"
    },
    {
     "data": {
      "application/vnd.jupyter.widget-view+json": {
       "model_id": "bcc75eb2ca464da98d3c3ba70c8705a5",
       "version_major": 2,
       "version_minor": 0
      },
      "text/plain": [
       "Box(children=(HTML(value='<strong>hollywoodreporter</strong>: <p>NewsNation Taps Chris Stirewalt for New Sunda…"
      ]
     },
     "metadata": {},
     "output_type": "display_data"
    },
    {
     "data": {
      "application/vnd.jupyter.widget-view+json": {
       "model_id": "04d04e4ddb674c609ffc7d107e20f2a9",
       "version_major": 2,
       "version_minor": 0
      },
      "text/plain": [
       "Box(children=(HTML(value='<strong>matoken@inari.opencocon.org</strong>: <p>しばらく前に4インチちょいのESP32 な4,5k(jpy)位のE-I…"
      ]
     },
     "metadata": {},
     "output_type": "display_data"
    },
    {
     "data": {
      "application/vnd.jupyter.widget-view+json": {
       "model_id": "fb4c87ce0b6c4cb1bc871a5f6fced847",
       "version_major": 2,
       "version_minor": 0
      },
      "text/plain": [
       "Box(children=(HTML(value='<strong>danzillawhite@minds.com</strong>: This is one big figure. <a href=\"https://w…"
      ]
     },
     "metadata": {},
     "output_type": "display_data"
    },
    {
     "data": {
      "application/vnd.jupyter.widget-view+json": {
       "model_id": "c4cd1d685cdc4f1e96a5f2c3c1e0d79c",
       "version_major": 2,
       "version_minor": 0
      },
      "text/plain": [
       "Box(children=(HTML(value='<strong>Benjaminblackoak@sfba.social</strong>: <p>My local library was my refuge dur…"
      ]
     },
     "metadata": {},
     "output_type": "display_data"
    },
    {
     "data": {
      "application/vnd.jupyter.widget-view+json": {
       "model_id": "510ea274b2824e17bdc0cf02a09e0f37",
       "version_major": 2,
       "version_minor": 0
      },
      "text/plain": [
       "Box(children=(HTML(value='<strong>Djeep@noauthority.social</strong>: <p>💪 </p><p><a href=\"https://youtube.com/…"
      ]
     },
     "metadata": {},
     "output_type": "display_data"
    },
    {
     "data": {
      "application/vnd.jupyter.widget-view+json": {
       "model_id": "3a0cff2a69ae42638892c24a65205d3f",
       "version_major": 2,
       "version_minor": 0
      },
      "text/plain": [
       "Box(children=(HTML(value='<strong>rinsuki@mstdn.rinsuki.net</strong>: <p>なんとなくGo製のバイナリってその性質から逆コンパイル面倒そうだよなーと思…"
      ]
     },
     "metadata": {},
     "output_type": "display_data"
    },
    {
     "data": {
      "application/vnd.jupyter.widget-view+json": {
       "model_id": "702b4135072a48a4adc1a23e17a5e4f4",
       "version_major": 2,
       "version_minor": 0
      },
      "text/plain": [
       "Box(children=(HTML(value='<strong>dreilandnews</strong>: <p>Lörrach: Rathaus-Sanierung trifft bei Einwohnerver…"
      ]
     },
     "metadata": {},
     "output_type": "display_data"
    },
    {
     "data": {
      "application/vnd.jupyter.widget-view+json": {
       "model_id": "c21c118f27ff4aaf9ec7eb2c6dc42a26",
       "version_major": 2,
       "version_minor": 0
      },
      "text/plain": [
       "Box(children=(HTML(value='<strong>schirdewan@respublicae.eu</strong>: <p>RT by <span class=\"h-card\"><a href=\"h…"
      ]
     },
     "metadata": {},
     "output_type": "display_data"
    }
   ],
   "source": [
    "# Subset the dataframe to include only rows where is_art is true\n",
    "display_timeline(df[df['is_positive_valence'] == True].head(10))"
   ]
  },
  {
   "cell_type": "code",
   "execution_count": 56,
   "id": "3c281b4b",
   "metadata": {},
   "outputs": [
    {
     "data": {
      "application/vnd.jupyter.widget-view+json": {
       "model_id": "665413917cbf4f32ad767c23ea3a1ce8",
       "version_major": 2,
       "version_minor": 0
      },
      "text/plain": [
       "Box(children=(HTML(value='<strong>Cateo@mstdn.social</strong>: <p>Connections <br>Puzzle #221<br>🟨🟨🟨🟨<br>🟪🟪🟪🟪<…"
      ]
     },
     "metadata": {},
     "output_type": "display_data"
    },
    {
     "data": {
      "application/vnd.jupyter.widget-view+json": {
       "model_id": "3876e0071fa54fb4908714f4352198ca",
       "version_major": 2,
       "version_minor": 0
      },
      "text/plain": [
       "Box(children=(HTML(value='<strong>Purzelinenlotte@troet.cafe</strong>: <p>Umzugsunternehmen ☑️<br>Umzugsdatum …"
      ]
     },
     "metadata": {},
     "output_type": "display_data"
    },
    {
     "data": {
      "application/vnd.jupyter.widget-view+json": {
       "model_id": "38438ae1a59449a28da7a8b9fab69109",
       "version_major": 2,
       "version_minor": 0
      },
      "text/plain": [
       "Box(children=(HTML(value='<strong>hollywoodreporter</strong>: <p>NewsNation Taps Chris Stirewalt for New Sunda…"
      ]
     },
     "metadata": {},
     "output_type": "display_data"
    },
    {
     "data": {
      "application/vnd.jupyter.widget-view+json": {
       "model_id": "fdb0d85f419d47d0b414cc22004130ee",
       "version_major": 2,
       "version_minor": 0
      },
      "text/plain": [
       "Box(children=(HTML(value='<strong>danzillawhite@minds.com</strong>: This is one big figure. <a href=\"https://w…"
      ]
     },
     "metadata": {},
     "output_type": "display_data"
    },
    {
     "data": {
      "application/vnd.jupyter.widget-view+json": {
       "model_id": "c30c0d1b8ef54e9ea63f728c35748fa4",
       "version_major": 2,
       "version_minor": 0
      },
      "text/plain": [
       "Box(children=(HTML(value='<strong>Djeep@noauthority.social</strong>: <p>💪 </p><p><a href=\"https://youtube.com/…"
      ]
     },
     "metadata": {},
     "output_type": "display_data"
    },
    {
     "data": {
      "application/vnd.jupyter.widget-view+json": {
       "model_id": "690209d2b73d4a68856c1f784867d669",
       "version_major": 2,
       "version_minor": 0
      },
      "text/plain": [
       "Box(children=(HTML(value='<strong>rinsuki@mstdn.rinsuki.net</strong>: <p>なんとなくGo製のバイナリってその性質から逆コンパイル面倒そうだよなーと思…"
      ]
     },
     "metadata": {},
     "output_type": "display_data"
    },
    {
     "data": {
      "application/vnd.jupyter.widget-view+json": {
       "model_id": "9a7a126b55464538b1e2247180fe3f6a",
       "version_major": 2,
       "version_minor": 0
      },
      "text/plain": [
       "Box(children=(HTML(value='<strong>g1_globo</strong>: <p>Inaugurado em 2023, espaço de Bem-Estar Animal de Pira…"
      ]
     },
     "metadata": {},
     "output_type": "display_data"
    },
    {
     "data": {
      "application/vnd.jupyter.widget-view+json": {
       "model_id": "284c9b0156224c6f829eb22d87e462aa",
       "version_major": 2,
       "version_minor": 0
      },
      "text/plain": [
       "Box(children=(HTML(value='<strong>stephanny@fedibird.com</strong>: <p>SUTEFF<br>KING OKA      MONSTERS<br>    …"
      ]
     },
     "metadata": {},
     "output_type": "display_data"
    },
    {
     "data": {
      "application/vnd.jupyter.widget-view+json": {
       "model_id": "4fd7800c92ca48b3a8558f000b43bd98",
       "version_major": 2,
       "version_minor": 0
      },
      "text/plain": [
       "Box(children=(HTML(value='<strong>root42@chaos.social</strong>: <p>My favorite switch type is the DIP switch a…"
      ]
     },
     "metadata": {},
     "output_type": "display_data"
    },
    {
     "data": {
      "application/vnd.jupyter.widget-view+json": {
       "model_id": "eb52912b8f214ff2ab30b6f9518183cd",
       "version_major": 2,
       "version_minor": 0
      },
      "text/plain": [
       "Box(children=(HTML(value='<strong>sam@urbanists.social</strong>: <p>Thank you to the person who signed up and …"
      ]
     },
     "metadata": {},
     "output_type": "display_data"
    },
    {
     "data": {
      "application/vnd.jupyter.widget-view+json": {
       "model_id": "7929d76351eb4747a9494c9b3e484967",
       "version_major": 2,
       "version_minor": 0
      },
      "text/plain": [
       "Box(children=(HTML(value='<strong>Kyrylys@frikiverse.zone</strong>: <p>:bookwyrm: Actualización de lectura:</p…"
      ]
     },
     "metadata": {},
     "output_type": "display_data"
    },
    {
     "data": {
      "application/vnd.jupyter.widget-view+json": {
       "model_id": "87350655b4214afcbeb8f9eb20834bbf",
       "version_major": 2,
       "version_minor": 0
      },
      "text/plain": [
       "Box(children=(HTML(value='<strong>FCBarcelona@sportsbots.xyz</strong>: <p>Here we come! <br><a href=\"https://t…"
      ]
     },
     "metadata": {},
     "output_type": "display_data"
    },
    {
     "data": {
      "application/vnd.jupyter.widget-view+json": {
       "model_id": "4930cad9cdad4d4dbfb9ef10c5a1df17",
       "version_major": 2,
       "version_minor": 0
      },
      "text/plain": [
       "Box(children=(HTML(value='<strong>jamesthomson</strong>: <p>The true visionOS experience.</p>', layout=Layout(…"
      ]
     },
     "metadata": {},
     "output_type": "display_data"
    },
    {
     "data": {
      "application/vnd.jupyter.widget-view+json": {
       "model_id": "a2e58fa7b1ef426dabb275d56bed7989",
       "version_major": 2,
       "version_minor": 0
      },
      "text/plain": [
       "Box(children=(HTML(value='<strong>J12t@social.coop</strong>: <p>Listening to <span class=\"h-card\" translate=\"n…"
      ]
     },
     "metadata": {},
     "output_type": "display_data"
    },
    {
     "data": {
      "application/vnd.jupyter.widget-view+json": {
       "model_id": "2d12614c6060452387d6dfdcd290bc25",
       "version_major": 2,
       "version_minor": 0
      },
      "text/plain": [
       "Box(children=(HTML(value='<strong>Edent</strong>: <p>Is there a version of FourSquare / Swarm for the Fedivers…"
      ]
     },
     "metadata": {},
     "output_type": "display_data"
    },
    {
     "data": {
      "application/vnd.jupyter.widget-view+json": {
       "model_id": "fd9287535d6b44419e55f18bbb49e522",
       "version_major": 2,
       "version_minor": 0
      },
      "text/plain": [
       "Box(children=(HTML(value='<strong>kottke@botsin.space</strong>: <p>The Frozen Colors of Winter. Gorgeous photo…"
      ]
     },
     "metadata": {},
     "output_type": "display_data"
    },
    {
     "data": {
      "application/vnd.jupyter.widget-view+json": {
       "model_id": "67fc3a4ba51145ebbe6601231ba01d0e",
       "version_major": 2,
       "version_minor": 0
      },
      "text/plain": [
       "Box(children=(HTML(value='<strong>mike@flipboard.social</strong>: <p>You’re going to love this episode of Dot …"
      ]
     },
     "metadata": {},
     "output_type": "display_data"
    },
    {
     "data": {
      "application/vnd.jupyter.widget-view+json": {
       "model_id": "c835fab77bc443eca7d273bebdc7a410",
       "version_major": 2,
       "version_minor": 0
      },
      "text/plain": [
       "Box(children=(HTML(value='<strong>manton@manton.org</strong>: <p>There’s some interesting stuff <a href=\"https…"
      ]
     },
     "metadata": {},
     "output_type": "display_data"
    },
    {
     "data": {
      "application/vnd.jupyter.widget-view+json": {
       "model_id": "096213ec5904476c8af5c5e10b10025b",
       "version_major": 2,
       "version_minor": 0
      },
      "text/plain": [
       "Box(children=(HTML(value='<strong>tchambers@indieweb.social</strong>: <p><span class=\"h-card\" translate=\"no\"><…"
      ]
     },
     "metadata": {},
     "output_type": "display_data"
    },
    {
     "data": {
      "application/vnd.jupyter.widget-view+json": {
       "model_id": "3f384037ea9e4ea1baa54c0bd91980d4",
       "version_major": 2,
       "version_minor": 0
      },
      "text/plain": [
       "Box(children=(HTML(value='<strong>Ten@hachyderm.io</strong>: ', layout=Layout(border_bottom='solid', border_le…"
      ]
     },
     "metadata": {},
     "output_type": "display_data"
    }
   ],
   "source": [
    "display_timeline(df[df['is_chill'] == True])"
   ]
  },
  {
   "cell_type": "code",
   "execution_count": 57,
   "id": "91e998f9",
   "metadata": {},
   "outputs": [
    {
     "data": {
      "application/vnd.jupyter.widget-view+json": {
       "model_id": "d2ae30ef188f42d7a2d96a8071a0d706",
       "version_major": 2,
       "version_minor": 0
      },
      "text/plain": [
       "Box(children=(HTML(value='<strong>WisdomExplained@mastodonbooks.net</strong>: <p>I shall love and respect, but…"
      ]
     },
     "metadata": {},
     "output_type": "display_data"
    },
    {
     "data": {
      "application/vnd.jupyter.widget-view+json": {
       "model_id": "b1164b3f691c4623ae29acc8e05d0921",
       "version_major": 2,
       "version_minor": 0
      },
      "text/plain": [
       "Box(children=(HTML(value='<strong>root42@chaos.social</strong>: <p>My favorite switch type is the DIP switch a…"
      ]
     },
     "metadata": {},
     "output_type": "display_data"
    },
    {
     "data": {
      "application/vnd.jupyter.widget-view+json": {
       "model_id": "7f1a6204d4e646f18801b51fa4ccfc15",
       "version_major": 2,
       "version_minor": 0
      },
      "text/plain": [
       "Box(children=(HTML(value='<strong>poderobrero@rebelbase.site</strong>: Videoteca de pensamiento marxista - Imp…"
      ]
     },
     "metadata": {},
     "output_type": "display_data"
    },
    {
     "data": {
      "application/vnd.jupyter.widget-view+json": {
       "model_id": "425f9c36bf404ec784fa2d311f5507c5",
       "version_major": 2,
       "version_minor": 0
      },
      "text/plain": [
       "Box(children=(HTML(value='<strong>riley@social.audiovalentine.com</strong>: <p>I feel like I\\'m seeing 自分 quit…"
      ]
     },
     "metadata": {},
     "output_type": "display_data"
    },
    {
     "data": {
      "application/vnd.jupyter.widget-view+json": {
       "model_id": "97e619efd085429fb04d9e0c28bf1e5b",
       "version_major": 2,
       "version_minor": 0
      },
      "text/plain": [
       "Box(children=(HTML(value='<strong>Teri_Kanefield</strong>: <p>The problem is that we are currently in an infor…"
      ]
     },
     "metadata": {},
     "output_type": "display_data"
    },
    {
     "data": {
      "application/vnd.jupyter.widget-view+json": {
       "model_id": "45909c54669e4dc99a5cc0923c4f5278",
       "version_major": 2,
       "version_minor": 0
      },
      "text/plain": [
       "Box(children=(HTML(value='<strong>Teri_Kanefield</strong>: <p>The authors are political science professors at …"
      ]
     },
     "metadata": {},
     "output_type": "display_data"
    },
    {
     "data": {
      "application/vnd.jupyter.widget-view+json": {
       "model_id": "4680ae46fe154a5eac301d75a70e9c78",
       "version_major": 2,
       "version_minor": 0
      },
      "text/plain": [
       "Box(children=(HTML(value='<strong>wearenew_public</strong>: <p>Today: Join the Prosocial Design Network for a …"
      ]
     },
     "metadata": {},
     "output_type": "display_data"
    }
   ],
   "source": [
    "display_timeline(df[df['is_academic'] == True])"
   ]
  },
  {
   "cell_type": "code",
   "execution_count": null,
   "id": "a6cb8185",
   "metadata": {},
   "outputs": [],
   "source": []
  }
 ],
 "metadata": {
  "kernelspec": {
   "display_name": "Python 3 (ipykernel)",
   "language": "python",
   "name": "python3"
  },
  "language_info": {
   "codemirror_mode": {
    "name": "ipython",
    "version": 3
   },
   "file_extension": ".py",
   "mimetype": "text/x-python",
   "name": "python",
   "nbconvert_exporter": "python",
   "pygments_lexer": "ipython3",
   "version": "3.10.8"
  }
 },
 "nbformat": 4,
 "nbformat_minor": 5
}
